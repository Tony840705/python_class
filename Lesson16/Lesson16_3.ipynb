{
 "cells": [
  {
   "cell_type": "code",
   "execution_count": null,
   "metadata": {},
   "outputs": [],
   "source": [
    "import numpy as np\n",
    "import pandas as pd\n",
    "array_2d = np.random.randint(50,100,size=(50,5))\n",
    "df1 = pd.DataFrame(array_2d,\n",
    "                   columns=['國文','英文','數學','社會','自然'],\n",
    "                   index = [f'{num}號' for num in range(1,51)])\n",
    "df1"
   ]
  },
  {
   "cell_type": "code",
   "execution_count": null,
   "metadata": {},
   "outputs": [],
   "source": [
    "#各學生總分\n",
    "total_se = df1['國文'] + df1['英文'] + df1['數學'] + df1['社會'] + df1['自然']"
   ]
  },
  {
   "cell_type": "code",
   "execution_count": null,
   "metadata": {},
   "outputs": [],
   "source": [
    "#各學生平均\n",
    "average_se = total_se / 5\n",
    "average_se"
   ]
  },
  {
   "cell_type": "code",
   "execution_count": null,
   "metadata": {},
   "outputs": [],
   "source": [
    "#新增欄位\n",
    "df1['總分'] = total_se\n",
    "df1['平均'] = average_se\n",
    "df1"
   ]
  },
  {
   "cell_type": "code",
   "execution_count": null,
   "metadata": {},
   "outputs": [],
   "source": [
    "#Series使用比較運算子\n",
    "df1['總分'] >= 400"
   ]
  },
  {
   "cell_type": "code",
   "execution_count": null,
   "metadata": {},
   "outputs": [],
   "source": [
    "#dataFrame使用subscript,搜尋資料\n",
    "#dataFrame[bool Series]\n",
    "#可將符合條件的保留\n",
    "df1[df1['總分'] >= 400]"
   ]
  },
  {
   "cell_type": "code",
   "execution_count": 13,
   "metadata": {},
   "outputs": [
    {
     "data": {
      "text/html": [
       "<div>\n",
       "<style scoped>\n",
       "    .dataframe tbody tr th:only-of-type {\n",
       "        vertical-align: middle;\n",
       "    }\n",
       "\n",
       "    .dataframe tbody tr th {\n",
       "        vertical-align: top;\n",
       "    }\n",
       "\n",
       "    .dataframe thead th {\n",
       "        text-align: right;\n",
       "    }\n",
       "</style>\n",
       "<table border=\"1\" class=\"dataframe\">\n",
       "  <thead>\n",
       "    <tr style=\"text-align: right;\">\n",
       "      <th></th>\n",
       "      <th>國文</th>\n",
       "      <th>英文</th>\n",
       "      <th>數學</th>\n",
       "      <th>社會</th>\n",
       "      <th>自然</th>\n",
       "      <th>總分</th>\n",
       "      <th>平均</th>\n",
       "    </tr>\n",
       "  </thead>\n",
       "  <tbody>\n",
       "    <tr>\n",
       "      <th>12號</th>\n",
       "      <td>99</td>\n",
       "      <td>61</td>\n",
       "      <td>97</td>\n",
       "      <td>61</td>\n",
       "      <td>91</td>\n",
       "      <td>409</td>\n",
       "      <td>81.8</td>\n",
       "    </tr>\n",
       "    <tr>\n",
       "      <th>19號</th>\n",
       "      <td>98</td>\n",
       "      <td>60</td>\n",
       "      <td>71</td>\n",
       "      <td>68</td>\n",
       "      <td>60</td>\n",
       "      <td>357</td>\n",
       "      <td>71.4</td>\n",
       "    </tr>\n",
       "    <tr>\n",
       "      <th>21號</th>\n",
       "      <td>98</td>\n",
       "      <td>51</td>\n",
       "      <td>91</td>\n",
       "      <td>69</td>\n",
       "      <td>84</td>\n",
       "      <td>393</td>\n",
       "      <td>78.6</td>\n",
       "    </tr>\n",
       "    <tr>\n",
       "      <th>23號</th>\n",
       "      <td>97</td>\n",
       "      <td>52</td>\n",
       "      <td>88</td>\n",
       "      <td>77</td>\n",
       "      <td>95</td>\n",
       "      <td>409</td>\n",
       "      <td>81.8</td>\n",
       "    </tr>\n",
       "    <tr>\n",
       "      <th>35號</th>\n",
       "      <td>97</td>\n",
       "      <td>98</td>\n",
       "      <td>61</td>\n",
       "      <td>69</td>\n",
       "      <td>99</td>\n",
       "      <td>424</td>\n",
       "      <td>84.8</td>\n",
       "    </tr>\n",
       "    <tr>\n",
       "      <th>42號</th>\n",
       "      <td>95</td>\n",
       "      <td>65</td>\n",
       "      <td>68</td>\n",
       "      <td>53</td>\n",
       "      <td>58</td>\n",
       "      <td>339</td>\n",
       "      <td>67.8</td>\n",
       "    </tr>\n",
       "  </tbody>\n",
       "</table>\n",
       "</div>"
      ],
      "text/plain": [
       "     國文  英文  數學  社會  自然   總分    平均\n",
       "12號  99  61  97  61  91  409  81.8\n",
       "19號  98  60  71  68  60  357  71.4\n",
       "21號  98  51  91  69  84  393  78.6\n",
       "23號  97  52  88  77  95  409  81.8\n",
       "35號  97  98  61  69  99  424  84.8\n",
       "42號  95  65  68  53  58  339  67.8"
      ]
     },
     "execution_count": 13,
     "metadata": {},
     "output_type": "execute_result"
    }
   ],
   "source": [
    "#查詢國文95分以上的學生\n",
    "df1[df1['國文'] >= 95]"
   ]
  }
 ],
 "metadata": {
  "kernelspec": {
   "display_name": "Python 3",
   "language": "python",
   "name": "python3"
  },
  "language_info": {
   "codemirror_mode": {
    "name": "ipython",
    "version": 3
   },
   "file_extension": ".py",
   "mimetype": "text/x-python",
   "name": "python",
   "nbconvert_exporter": "python",
   "pygments_lexer": "ipython3",
   "version": "3.10.14"
  }
 },
 "nbformat": 4,
 "nbformat_minor": 2
}
