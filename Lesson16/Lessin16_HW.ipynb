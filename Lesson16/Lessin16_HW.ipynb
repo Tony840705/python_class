{
 "cells": [
  {
   "cell_type": "code",
   "execution_count": 4,
   "metadata": {},
   "outputs": [
    {
     "name": "stdout",
     "output_type": "stream",
     "text": [
      "下載成功\n"
     ]
    },
    {
     "ename": "TypeError",
     "evalue": "field_validator() missing 1 required positional argument: 'field'",
     "output_type": "error",
     "traceback": [
      "\u001b[0;31m---------------------------------------------------------------------------\u001b[0m",
      "\u001b[0;31mTypeError\u001b[0m                                 Traceback (most recent call last)",
      "Cell \u001b[0;32mIn[4], line 13\u001b[0m\n\u001b[1;32m      9\u001b[0m     \u001b[38;5;28mprint\u001b[39m(\u001b[38;5;124m'\u001b[39m\u001b[38;5;124m下載失敗\u001b[39m\u001b[38;5;124m'\u001b[39m)\n\u001b[1;32m     11\u001b[0m \u001b[38;5;28;01mfrom\u001b[39;00m \u001b[38;5;21;01mpydantic\u001b[39;00m \u001b[38;5;28;01mimport\u001b[39;00m BaseModel,Field,field_validator\n\u001b[0;32m---> 13\u001b[0m \u001b[38;5;28;01mclass\u001b[39;00m \u001b[38;5;21;01mSite\u001b[39;00m(BaseModel):\n\u001b[1;32m     14\u001b[0m     sna:\u001b[38;5;28mstr\u001b[39m\n\u001b[1;32m     15\u001b[0m     saera:\u001b[38;5;28mstr\u001b[39m\n",
      "Cell \u001b[0;32mIn[4], line 25\u001b[0m, in \u001b[0;36mSite\u001b[0;34m()\u001b[0m\n\u001b[1;32m     22\u001b[0m longitude:\u001b[38;5;28mfloat\u001b[39m\n\u001b[1;32m     23\u001b[0m available_return_bikes:\u001b[38;5;28mint\u001b[39m\n\u001b[0;32m---> 25\u001b[0m \u001b[38;5;129m@field_validator\u001b[39m\u001b[43m(\u001b[49m\u001b[43m)\u001b[49m\n\u001b[1;32m     26\u001b[0m \u001b[38;5;129m@classmethod\u001b[39m\n\u001b[1;32m     27\u001b[0m \u001b[38;5;28;01mdef\u001b[39;00m \u001b[38;5;21mwhitespace_to_zero\u001b[39m(\u001b[38;5;28mcls\u001b[39m,value:\u001b[38;5;28mstr\u001b[39m)\u001b[38;5;241m-\u001b[39m\u001b[38;5;241m>\u001b[39m\u001b[38;5;28mstr\u001b[39m:\n\u001b[1;32m     28\u001b[0m     \u001b[38;5;28;01mif\u001b[39;00m value \u001b[38;5;241m==\u001b[39m \u001b[38;5;124m'\u001b[39m\u001b[38;5;124m'\u001b[39m:\n\u001b[1;32m     29\u001b[0m         \u001b[38;5;28;01mreturn\u001b[39;00m \u001b[38;5;124m'\u001b[39m\u001b[38;5;124m0.0\u001b[39m\u001b[38;5;124m'\u001b[39m\n",
      "\u001b[0;31mTypeError\u001b[0m: field_validator() missing 1 required positional argument: 'field'"
     ]
    }
   ],
   "source": [
    "import requests\n",
    "from requests import Response\n",
    "aqi_url = 'https://tcgbusfs.blob.core.windows.net/dotapp/youbike/v2/youbike_immediate.json'\n",
    "\n",
    "res: Response = requests.get(aqi_url)\n",
    "if res.status_code == 200:\n",
    "    print('下載成功')\n",
    "else:\n",
    "    print('下載失敗')\n",
    "\n",
    "from pydantic import BaseModel,Field,field_validator\n",
    "\n",
    "class Site(BaseModel):\n",
    "    sna:str\n",
    "    saera:str\n",
    "    mday:str\n",
    "    ar:str\n",
    "    act:int\n",
    "    total:int\n",
    "    available_rent_bikes:int\n",
    "    latitude:float\n",
    "    longitude:float\n",
    "    available_return_bikes:int\n",
    "    \n",
    "    @field_validator()\n",
    "    @classmethod\n",
    "    def whitespace_to_zero(cls,value:str)->str:\n",
    "        if value == '':\n",
    "            return '0.0'\n",
    "        else:\n",
    "            return value\n",
    "\n",
    "class AQI(BaseModel):\n",
    "    records:list[Site]\n",
    "\n",
    "data1:AQI = AQI.model_validate_json(res.text)\n",
    "for item in data1.records:\n",
    "    print(item)"
   ]
  },
  {
   "cell_type": "code",
   "execution_count": null,
   "metadata": {},
   "outputs": [],
   "source": [
    "#sna    sarea    mday    ar    act    total    available_rent_bikes    latitude    longitude    available_return_bikes"
   ]
  }
 ],
 "metadata": {
  "kernelspec": {
   "display_name": "Python 3",
   "language": "python",
   "name": "python3"
  },
  "language_info": {
   "codemirror_mode": {
    "name": "ipython",
    "version": 3
   },
   "file_extension": ".py",
   "mimetype": "text/x-python",
   "name": "python",
   "nbconvert_exporter": "python",
   "pygments_lexer": "ipython3",
   "version": "3.10.14"
  }
 },
 "nbformat": 4,
 "nbformat_minor": 2
}
