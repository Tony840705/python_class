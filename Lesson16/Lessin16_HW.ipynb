{
 "cells": [
  {
   "cell_type": "code",
   "execution_count": null,
   "metadata": {},
   "outputs": [],
   "source": [
    "import requests\n",
    "youbike_url = 'https://tcgbusfs.blob.core.windows.net/dotapp/youbike/v2/youbike_immediate.json'\n",
    "\n",
    "res = requests.get(youbike_url)\n",
    "if res.status_code == 200:\n",
    "    print('下載成功')\n",
    "else:\n",
    "    print('下載失敗')\n",
    "\n",
    "from pydantic import BaseModel, Field, RootModel, field_validator\n",
    "\n",
    "class Site(BaseModel):\n",
    "    站名: str = Field(alias='sna')\n",
    "    區域: str = Field(alias='sarea')\n",
    "    時間: str = Field(alias='mday')\n",
    "    地點: str = Field(alias='ar')\n",
    "    狀態: bool = Field(alias='act')\n",
    "    總共數量: int = Field(alias='total')\n",
    "    可借數量: int = Field(alias='available_rent_bikes')\n",
    "    可還數量: int = Field(alias='available_return_bikes')\n",
    "    經度: float = Field(alias='longitude')\n",
    "    緯度: float = Field(alias='latitude')\n",
    "\n",
    "    @field_validator('站名')\n",
    "    @classmethod\n",
    "    def get_name(cls, value: str) -> str:\n",
    "        return value.split('_')[-1]\n",
    "\n",
    "class YouBike(RootModel):\n",
    "    root: list[Site]\n",
    "    def __iter__(self):\n",
    "        return iter(self.root)\n",
    "    \n",
    "    def __getitem__(self, item):\n",
    "        return self.root[item]\n",
    "    \n",
    "data: YouBike = YouBike.model_validate_json(res.text)\n",
    "all_sites: list[dict] = data.model_dump()\n",
    "\n",
    "import pandas as pd\n",
    "df = pd.DataFrame(all_sites)\n",
    "df"
   ]
  },
  {
   "cell_type": "code",
   "execution_count": null,
   "metadata": {},
   "outputs": [],
   "source": [
    "#主程式要先跑過，才能在另一組執行\n",
    "df[df['可借數量'] <= 3]"
   ]
  },
  {
   "cell_type": "code",
   "execution_count": 6,
   "metadata": {},
   "outputs": [
    {
     "name": "stdout",
     "output_type": "stream",
     "text": [
      "<class 'pandas.core.frame.DataFrame'>\n",
      "RangeIndex: 1423 entries, 0 to 1422\n",
      "Data columns (total 10 columns):\n",
      " #   Column  Non-Null Count  Dtype  \n",
      "---  ------  --------------  -----  \n",
      " 0   站名      1423 non-null   object \n",
      " 1   區域      1423 non-null   object \n",
      " 2   時間      1423 non-null   object \n",
      " 3   地點      1423 non-null   object \n",
      " 4   狀態      1423 non-null   bool   \n",
      " 5   總共數量    1423 non-null   int64  \n",
      " 6   可借數量    1423 non-null   int64  \n",
      " 7   可還數量    1423 non-null   int64  \n",
      " 8   經度      1423 non-null   float64\n",
      " 9   緯度      1423 non-null   float64\n",
      "dtypes: bool(1), float64(2), int64(3), object(4)\n",
      "memory usage: 101.6+ KB\n"
     ]
    }
   ],
   "source": [
    "df.info()"
   ]
  },
  {
   "cell_type": "code",
   "execution_count": 16,
   "metadata": {},
   "outputs": [
    {
     "data": {
      "text/plain": [
       "(432, 10)"
      ]
     },
     "execution_count": 16,
     "metadata": {},
     "output_type": "execute_result"
    }
   ],
   "source": [
    "import numpy as np\n",
    "\n",
    "less3_df = df.query('可借數量<=3') #query是字串\n",
    "less3_df.shape"
   ]
  }
 ],
 "metadata": {
  "kernelspec": {
   "display_name": "Python 3",
   "language": "python",
   "name": "python3"
  },
  "language_info": {
   "codemirror_mode": {
    "name": "ipython",
    "version": 3
   },
   "file_extension": ".py",
   "mimetype": "text/x-python",
   "name": "python",
   "nbconvert_exporter": "python",
   "pygments_lexer": "ipython3",
   "version": "3.10.14"
  }
 },
 "nbformat": 4,
 "nbformat_minor": 2
}
