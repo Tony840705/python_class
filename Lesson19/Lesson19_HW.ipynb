{
 "cells": [
  {
   "cell_type": "code",
   "execution_count": null,
   "metadata": {},
   "outputs": [],
   "source": [
    "import json\n",
    "import pandas as pd\n",
    "\n",
    "with open('每日各站進出站人數/車站基本資料集.json',encoding='utf-8') as file:\n",
    "    content:list[dict] = json.load(file)\n",
    "info_df = pd.DataFrame(content)\n",
    "info_df1 = info_df.reindex(columns=['stationCode','stationName','stationAddrTw'])\n",
    "info_df1.columns = ['code','站名','地址']\n",
    "info_df1['code'] = info_df1['code'].astype(int)\n",
    "info_df1.info()"
   ]
  },
  {
   "cell_type": "code",
   "execution_count": 1,
   "metadata": {},
   "outputs": [],
   "source": [
    "import os\n",
    "\n",
    "for file_name in os.listdir('人口密度'):\n",
    "    if '人口密度' in file_name:\n",
    "        print(os.path.abspath(file_name))"
   ]
  }
 ],
 "metadata": {
  "kernelspec": {
   "display_name": "Python 3",
   "language": "python",
   "name": "python3"
  },
  "language_info": {
   "codemirror_mode": {
    "name": "ipython",
    "version": 3
   },
   "file_extension": ".py",
   "mimetype": "text/x-python",
   "name": "python",
   "nbconvert_exporter": "python",
   "pygments_lexer": "ipython3",
   "version": "3.10.14"
  }
 },
 "nbformat": 4,
 "nbformat_minor": 2
}
