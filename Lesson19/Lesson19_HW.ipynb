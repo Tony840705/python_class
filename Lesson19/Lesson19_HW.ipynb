{
 "cells": [
  {
   "cell_type": "code",
   "execution_count": 4,
   "metadata": {},
   "outputs": [],
   "source": [
    "import os\n",
    "\n",
    "for file_name in os.listdir('人口密度'):\n",
    "    if '人口密度' in file_name:\n",
    "        print(os.path.abspath(file_name))"
   ]
  },
  {
   "cell_type": "code",
   "execution_count": null,
   "metadata": {},
   "outputs": [],
   "source": [
    "import pandas as pd\n",
    "import os\n",
    "\n",
    "def make_data_frame(file_path: str) -> pd.DataFrame:\n",
    "    df = pd.read_csv(file_path)\n",
    "    df.columns = df.iloc[0]\n",
    "    df1 = df.drop(0).dropna()\n",
    "    df2 = df1.set_index('區域別')\n",
    "\n",
    "    return df2\n",
    "\n",
    "\n",
    "dir_ = '人口密度'\n",
    "dfs = []\n",
    "\n",
    "for file in os.listdir(dir_):\n",
    "    dfs.append(make_data_frame(f'{dir_}/{file}'))\n",
    "\n",
    "pd.concat(dfs)"
   ]
  }
 ],
 "metadata": {
  "kernelspec": {
   "display_name": "Python 3",
   "language": "python",
   "name": "python3"
  },
  "language_info": {
   "codemirror_mode": {
    "name": "ipython",
    "version": 3
   },
   "file_extension": ".py",
   "mimetype": "text/x-python",
   "name": "python",
   "nbconvert_exporter": "python",
   "pygments_lexer": "ipython3",
   "version": "3.10.14"
  }
 },
 "nbformat": 4,
 "nbformat_minor": 2
}
