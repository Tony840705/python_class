{
 "cells": [
  {
   "cell_type": "code",
   "execution_count": null,
   "metadata": {},
   "outputs": [],
   "source": [
    "import pandas as pd\n",
    "import os\n",
    "\n",
    "def make_data_frame(file_path: str) -> pd.DataFrame:\n",
    "    df = pd.read_csv(file_path)\n",
    "    df.columns = df.iloc[0]\n",
    "    df1 = df.drop(0).dropna()\n",
    "    df2 = df1.set_index('區域別')\n",
    "\n",
    "    return df2\n",
    "\n",
    "dir_ = '人口密度'\n",
    "dfs = []\n",
    "\n",
    "for file in os.listdir(dir_):\n",
    "    dfs.append(make_data_frame(f'{dir_}/{file}'))\n",
    "\n",
    "pd.concat(dfs)"
   ]
  },
  {
   "cell_type": "code",
   "execution_count": null,
   "metadata": {},
   "outputs": [],
   "source": [
    "import os\n",
    "import pandas as pd\n",
    "from pandas import DataFrame\n",
    "\n",
    "def data_merge(source_path:str,second:DataFrame)->DataFrame:\n",
    "    pop_density = pd.read_csv(source_path)\n",
    "    pop_density.columns = ['統計年','區域別','年底人口數','土地面積','人口密度']\n",
    "    pop_density.columns = pop_density.iloc[0].values.tolist()\n",
    "    pop_1 = pd.merge(pop_density,second)\n",
    "    pop_1 = pop_density.drop(index=[0])\n",
    "    pop_1.dropna(inplace= True)\n",
    "    return pop_1\n",
    "\n",
    "merges= []\n",
    "info_df1= pd.DataFrame(columns = ['統計年','區域別','年底人口數','土地面積','人口密度'])\n",
    "\n",
    "for file_name in os.listdir('人口密度'):\n",
    "     if 'opendata' in file_name:\n",
    "         merges.append(data_merge(os.path.abspath(f'人口密度/{file_name}'),info_df1))\n",
    "\n",
    "df2 = pd.concat(merges,ignore_index=True)\n",
    "df2.set_index('區域別',inplace=True)\n",
    "df2.sort_values(['區域別','統計年'],ascending=True,inplace=True)\n",
    "df2   "
   ]
  }
 ],
 "metadata": {
  "kernelspec": {
   "display_name": "Python 3",
   "language": "python",
   "name": "python3"
  },
  "language_info": {
   "codemirror_mode": {
    "name": "ipython",
    "version": 3
   },
   "file_extension": ".py",
   "mimetype": "text/x-python",
   "name": "python",
   "nbconvert_exporter": "python",
   "pygments_lexer": "ipython3",
   "version": "3.10.14"
  }
 },
 "nbformat": 4,
 "nbformat_minor": 2
}
