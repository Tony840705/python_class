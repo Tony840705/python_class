{
 "cells": [
  {
   "cell_type": "code",
   "execution_count": null,
   "metadata": {},
   "outputs": [],
   "source": [
    "import json\n",
    "import pandas as pd\n",
    "with open('每日各站進出站人數/車站基本資料集.json',encoding='utf-8') as file:\n",
    "    content:list[dict] = json.load(file)\n",
    "info_df = pd.DataFrame(content)\n",
    "info_df1 = info_df.reindex(columns=['stationCode','stationName','stationAddrTw'])\n",
    "info_df1.columns = ['code','站名','地址']\n",
    "info_df1['code'] = info_df1['code'].astype(int)\n",
    "info_df1"
   ]
  },
  {
   "cell_type": "code",
   "execution_count": null,
   "metadata": {},
   "outputs": [],
   "source": [
    "import json\n",
    "import pandas as pd\n",
    "from pandas import DataFrame\n",
    "\n",
    "def data_merge(source_path:str,second:DataFrame) -> DataFrame:\n",
    "    site_2023_df = pd.read_csv(source_path)\n",
    "    site_2023_df.columns = ['日期','code','進站','出站']\n",
    "    merge2023 = pd.merge(site_2023_df,second)\n",
    "    merge2023['日期'] = pd.to_datetime(merge2023['日期'].astype(str))\n",
    "    merge2023_1 = merge2023.set_index('日期')\n",
    "    merge2023_2 = merge2023_1.reindex(columns=['站名','地址','進站','出站'])\n",
    "    return merge2023_2\n",
    "\n",
    "with open('每日各站進出站人數/車站基本資料集.json',encoding='utf-8') as file:\n",
    "    content:list[dict] = json.load(file)\n",
    "info_df = pd.DataFrame(content)\n",
    "info_df1 = info_df.reindex(columns=['stationCode','stationName','stationAddrTw'])\n",
    "info_df1.columns = ['code','站名','地址']\n",
    "info_df1['code'] = info_df1['code'].astype(int)\n",
    "marge_data:DataFrame = data_merge('每日各站進出站人數/每日各站進出站人數2023.csv',info_df1)\n",
    "marge_data"
   ]
  },
  {
   "cell_type": "code",
   "execution_count": null,
   "metadata": {},
   "outputs": [],
   "source": [
    "import os\n",
    "\n",
    "for file_name in os.listdir('每日各站進出站人數'):\n",
    "    if '每日各站進出站人數' in file_name:\n",
    "        print(os.path.abspath(file_name))"
   ]
  }
 ],
 "metadata": {
  "kernelspec": {
   "display_name": "Python 3",
   "language": "python",
   "name": "python3"
  },
  "language_info": {
   "codemirror_mode": {
    "name": "ipython",
    "version": 3
   },
   "file_extension": ".py",
   "mimetype": "text/x-python",
   "name": "python",
   "nbconvert_exporter": "python",
   "pygments_lexer": "ipython3",
   "version": "3.10.14"
  }
 },
 "nbformat": 4,
 "nbformat_minor": 2
}
