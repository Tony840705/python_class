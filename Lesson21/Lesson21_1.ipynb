{
 "cells": [
  {
   "cell_type": "code",
   "execution_count": null,
   "metadata": {},
   "outputs": [],
   "source": [
    "import requests\n",
    "from requests import Response\n",
    "from pydantic import RootModel,BaseModel,Field,field_validator\n",
    "from datetime import datetime\n",
    "import pandas as pd \n",
    "\n",
    "class Site (BaseModel):\n",
    "    行政區域:str = Field(alias='sarea')\n",
    "    總數量:int = Field(alias='total')\n",
    "    可借車量:int = Field(alias='available_rent_bikes') \n",
    "    可還車量:int = Field(alias='available_return_bikes')\n",
    "    時間:datetime = Field(alias='mday')\n",
    "\n",
    "    @field_validator('可借車量','可還車量',mode='before')\n",
    "    @classmethod\n",
    "    def whitespace_to_zero(cls, value: str) -> str:\n",
    "        return '0.0' if value == '' else value\n",
    "    \n",
    "class Youbike(RootModel):\n",
    "    root:list[Site]\n",
    "\n",
    "try:\n",
    "    youbike_url:Response= requests.get('https://tcgbusfs.blob.core.windows.net/dotapp/youbike/v2/youbike_immediate.json')\n",
    "    youbike_url.raise_for_status()\n",
    "except Exception as e:\n",
    "    print(e)\n",
    "else:\n",
    "    data = Youbike.model_validate_json(youbike_url.text)\n",
    "    all_sites = data.model_dump()\n",
    "\n",
    "df = pd.DataFrame(all_sites)\n",
    "df"
   ]
  },
  {
   "cell_type": "code",
   "execution_count": null,
   "metadata": {},
   "outputs": [],
   "source": [
    "df1 = df.groupby(by='行政區域')[['總數量','可借車量','可還車量']].agg([('車輛數','sum'),('站點數','count')])\n",
    "df1"
   ]
  },
  {
   "cell_type": "code",
   "execution_count": null,
   "metadata": {},
   "outputs": [],
   "source": [
    "#pivot\n",
    "#stack,unstack\n",
    "#欄位有名稱\n",
    "s1 = df1.stack(level=[0,1])\n",
    "s1.index.names = ['行政區域','主題','數量']\n",
    "s1.unstack(level=['數量'])"
   ]
  }
 ],
 "metadata": {
  "kernelspec": {
   "display_name": "Python 3",
   "language": "python",
   "name": "python3"
  },
  "language_info": {
   "codemirror_mode": {
    "name": "ipython",
    "version": 3
   },
   "file_extension": ".py",
   "mimetype": "text/x-python",
   "name": "python",
   "nbconvert_exporter": "python",
   "pygments_lexer": "ipython3",
   "version": "3.10.14"
  }
 },
 "nbformat": 4,
 "nbformat_minor": 2
}
