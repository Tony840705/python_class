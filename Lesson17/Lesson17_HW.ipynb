{
 "cells": [
  {
   "cell_type": "code",
   "execution_count": 1,
   "metadata": {},
   "outputs": [],
   "source": [
    "import numpy as np\n",
    "import pandas as pd\n",
    "\n",
    "df1 = pd.read_csv('world.csv')\n",
    "df2 = df1.reindex(columns=['洲名','國家','日期','總確診數','新增確診數'])\n",
    "df3 = df2.query('日期>=\"2021-01-01\" and 日期<=\"2021-01-31\"and 國家==[\"台灣\",\"日本\"]')\n",
    "\n",
    "df3.to_csv('TWJP202101.csv',index=False)\n",
    "df3.to_excel('TWJP202101.xlsx',index=False,sheet_name='2021-01')\n",
    "df3.to_json('TWJP202101.json',orient='table',force_ascii=False)"
   ]
  }
 ],
 "metadata": {
  "kernelspec": {
   "display_name": "Python 3",
   "language": "python",
   "name": "python3"
  },
  "language_info": {
   "codemirror_mode": {
    "name": "ipython",
    "version": 3
   },
   "file_extension": ".py",
   "mimetype": "text/x-python",
   "name": "python",
   "nbconvert_exporter": "python",
   "pygments_lexer": "ipython3",
   "version": "3.10.14"
  }
 },
 "nbformat": 4,
 "nbformat_minor": 2
}
