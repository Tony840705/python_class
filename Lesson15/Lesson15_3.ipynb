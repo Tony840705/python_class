{
 "cells": [
  {
   "cell_type": "code",
   "execution_count": null,
   "metadata": {},
   "outputs": [],
   "source": [
    "student1 = [53,72,83,61,79]\n",
    "student2 = [43,62,74,86,28]\n",
    "\n",
    "for i in range(len(student1)):\n",
    "    scores = student1[i] + student2[i]\n",
    "    print(scores)\n",
    "    print(\"==========\")"
   ]
  },
  {
   "cell_type": "code",
   "execution_count": 6,
   "metadata": {},
   "outputs": [
    {
     "data": {
      "text/plain": [
       "[53, 72, 83, 61, 79, 43, 62, 74, 86, 28]"
      ]
     },
     "execution_count": 6,
     "metadata": {},
     "output_type": "execute_result"
    }
   ],
   "source": [
    "student1 = [53,72,83,61,79]\n",
    "student2 = [43,62,74,86,28]\n",
    "#變成數字串接\n",
    "student1 + student2"
   ]
  },
  {
   "cell_type": "code",
   "execution_count": 16,
   "metadata": {},
   "outputs": [
    {
     "name": "stdout",
     "output_type": "stream",
     "text": [
      "96\n",
      "==========\n",
      "134\n",
      "==========\n",
      "157\n",
      "==========\n",
      "147\n",
      "==========\n",
      "107\n",
      "==========\n"
     ]
    }
   ],
   "source": [
    "import numpy as np\n",
    "from numpy import ndarray\n",
    "student1:ndarray = np.array([53,72,83,61,79])\n",
    "student2:ndarray = np.array([43,62,74,86,28])\n",
    "\n",
    "#可以做陣列運算，不需要使用for...in\n",
    "totols:ndarray = student1 + student2\n",
    "for total in totals:\n",
    "    print(total)\n",
    "    print(\"==========\")\n"
   ]
  },
  {
   "cell_type": "code",
   "execution_count": 21,
   "metadata": {},
   "outputs": [
    {
     "name": "stdout",
     "output_type": "stream",
     "text": [
      "[[1 2 3]\n",
      " [4 5 6]]\n",
      "2\n",
      "(2, 3)\n",
      "6\n",
      "int64\n"
     ]
    }
   ],
   "source": [
    "array:ndarray = np.array([[1,2,3],[4,5,6]])\n",
    "print(array)\n",
    "#property\n",
    "#ndin,shape,size,dtype\n",
    "\n",
    "print(array.ndim)\n",
    "print(array.shape)\n",
    "print(array.size)\n",
    "print(array.dtype)"
   ]
  },
  {
   "cell_type": "code",
   "execution_count": 25,
   "metadata": {},
   "outputs": [
    {
     "data": {
      "text/plain": [
       "array([[ 78,  79,  97,  68,  70],\n",
       "       [ 87,  63,  81,  64,  78],\n",
       "       [ 93,  61,  91,  76,  65],\n",
       "       [ 50,  58,  98,  66,  58],\n",
       "       [ 53,  77,  55,  66,  71],\n",
       "       [ 81,  76,  62,  72,  69],\n",
       "       [ 53,  93,  75,  90,  62],\n",
       "       [100,  54,  87,  62,  68],\n",
       "       [ 73,  54,  53,  66,  95],\n",
       "       [ 95,  53,  54,  74,  50],\n",
       "       [ 63,  77,  84,  84,  75],\n",
       "       [ 77,  72,  91,  82,  83],\n",
       "       [ 65,  61,  87,  64,  81],\n",
       "       [ 73,  80,  96,  93,  76],\n",
       "       [ 92,  85,  70,  83,  66],\n",
       "       [ 93,  92,  51,  80,  77],\n",
       "       [ 67,  72,  65,  96,  67],\n",
       "       [ 52,  99,  50,  61,  93],\n",
       "       [ 79,  79,  86,  50,  67],\n",
       "       [ 81,  53,  73, 100,  92],\n",
       "       [ 51,  81,  50,  90,  86],\n",
       "       [ 52,  63,  64,  87,  83],\n",
       "       [ 90,  50,  68,  50,  91],\n",
       "       [ 66,  76,  67,  68,  80],\n",
       "       [ 83,  50,  61,  96,  55],\n",
       "       [ 70,  95,  56, 100,  92],\n",
       "       [ 77,  93,  68,  50,  75],\n",
       "       [ 55,  57,  57,  94,  68],\n",
       "       [ 76,  72,  56,  77,  51],\n",
       "       [ 55,  75, 100,  76,  63],\n",
       "       [ 87,  66,  53,  79,  70],\n",
       "       [ 90,  63,  58,  92,  92],\n",
       "       [ 58,  80,  57, 100,  61],\n",
       "       [ 66,  53,  96,  88,  56],\n",
       "       [ 87,  55,  91,  95,  85],\n",
       "       [ 81,  55,  53,  55,  78],\n",
       "       [ 94,  51,  80,  54,  54],\n",
       "       [ 70,  80,  90,  52,  85],\n",
       "       [ 54,  89,  74,  72,  72],\n",
       "       [ 53,  91,  60,  71,  77],\n",
       "       [ 85,  53,  78,  80,  97],\n",
       "       [ 99,  69,  77,  79,  73],\n",
       "       [ 98,  87,  88,  88,  79],\n",
       "       [ 73,  57,  59,  84,  72],\n",
       "       [ 51,  92,  85, 100,  65],\n",
       "       [ 85,  84,  76,  73,  55],\n",
       "       [ 66,  72,  68,  82,  90],\n",
       "       [ 58,  74,  69,  71,  54],\n",
       "       [ 64,  54,  64,  73,  92],\n",
       "       [ 82,  69, 100,  87,  68]])"
      ]
     },
     "execution_count": 25,
     "metadata": {},
     "output_type": "execute_result"
    }
   ],
   "source": [
    "np.random.randint(50,101,size=(50,5))"
   ]
  }
 ],
 "metadata": {
  "kernelspec": {
   "display_name": "Python 3",
   "language": "python",
   "name": "python3"
  },
  "language_info": {
   "codemirror_mode": {
    "name": "ipython",
    "version": 3
   },
   "file_extension": ".py",
   "mimetype": "text/x-python",
   "name": "python",
   "nbconvert_exporter": "python",
   "pygments_lexer": "ipython3",
   "version": "3.10.14"
  }
 },
 "nbformat": 4,
 "nbformat_minor": 2
}
