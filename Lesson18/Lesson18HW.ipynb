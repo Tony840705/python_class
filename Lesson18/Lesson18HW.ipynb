{
 "cells": [
  {
   "cell_type": "code",
   "execution_count": null,
   "metadata": {},
   "outputs": [],
   "source": [
    "import pandas_datareader.data as pdr\n",
    "import yfinance as yf\n",
    "import pandas as pd\n",
    "\n",
    "yf.pdr_override()\n",
    "all_data = {item:pdr.get_data_yahoo(item) for item in ['2330.TW','2303.TW','2454.TW','2317.TW']}\n",
    "\n",
    "df_stocks = pd.DataFrame({key:df['Adj Close'] for key,df in all_data.items()})\n",
    "df_stocks.columns = ['台積電', '聯電', '聯發科', '鴻海']\n",
    "df_stocks"
   ]
  }
 ],
 "metadata": {
  "kernelspec": {
   "display_name": "Python 3",
   "language": "python",
   "name": "python3"
  },
  "language_info": {
   "codemirror_mode": {
    "name": "ipython",
    "version": 3
   },
   "file_extension": ".py",
   "mimetype": "text/x-python",
   "name": "python",
   "nbconvert_exporter": "python",
   "pygments_lexer": "ipython3",
   "version": "3.10.14"
  }
 },
 "nbformat": 4,
 "nbformat_minor": 2
}
