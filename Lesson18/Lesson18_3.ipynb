{
 "cells": [
  {
   "cell_type": "code",
   "execution_count": null,
   "metadata": {},
   "outputs": [],
   "source": [
    "import numpy as np\n",
    "import pandas as pd\n",
    "\n",
    "scores = pd.DataFrame(np.random.randint(50,101,size=(50,5)),\n",
    "             columns=['國文', '英文', '數學', '地理', '歷史'],\n",
    "             index=range(1,51))\n",
    "scores"
   ]
  },
  {
   "cell_type": "code",
   "execution_count": null,
   "metadata": {},
   "outputs": [],
   "source": [
    "def abc(s): #印出各科最高分\n",
    "    return s.max()\n",
    "scores.apply(abc)"
   ]
  },
  {
   "cell_type": "code",
   "execution_count": null,
   "metadata": {},
   "outputs": [],
   "source": [
    "def abc(s): #印出個哥最低 最高 平均\n",
    "    return pd.Series([s.min(),s.max(),s.mean()],index=['最低分','最高分','平均'])\n",
    "scores.apply(abc)"
   ]
  },
  {
   "cell_type": "code",
   "execution_count": null,
   "metadata": {},
   "outputs": [],
   "source": [
    "scores.index = scores.index.map(lambda i:f'{i}號')\n",
    "scores  #將表單編號"
   ]
  },
  {
   "cell_type": "code",
   "execution_count": null,
   "metadata": {},
   "outputs": [],
   "source": [
    "def abc1(item):\n",
    "    less_student = one_student[one_student < 60]\n",
    "    less_cout = less_student.count()\n",
    "    less_str = \",\".join(less_student.index.values.tolist())\n",
    "    return pd.Series([item.sum(),item.mean()],index=['總分','平均'])\n",
    "scores.apply(abc1,axis=1)   #將表單成員依序印出總分與平均"
   ]
  },
  {
   "cell_type": "code",
   "execution_count": null,
   "metadata": {},
   "outputs": [],
   "source": [
    "one_student = scores.iloc[0]\n",
    "less_student = one_student[one_student < 60]\n",
    "less_student"
   ]
  },
  {
   "cell_type": "code",
   "execution_count": null,
   "metadata": {},
   "outputs": [],
   "source": [
    "less_student.count()\n",
    "\",\".join(less_student.index.values.tolist())"
   ]
  }
 ],
 "metadata": {
  "kernelspec": {
   "display_name": "Python 3",
   "language": "python",
   "name": "python3"
  },
  "language_info": {
   "codemirror_mode": {
    "name": "ipython",
    "version": 3
   },
   "file_extension": ".py",
   "mimetype": "text/x-python",
   "name": "python",
   "nbconvert_exporter": "python",
   "pygments_lexer": "ipython3",
   "version": "3.10.14"
  }
 },
 "nbformat": 4,
 "nbformat_minor": 2
}
