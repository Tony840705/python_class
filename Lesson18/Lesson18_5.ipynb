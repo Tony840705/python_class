{
 "cells": [
  {
   "cell_type": "code",
   "execution_count": null,
   "metadata": {},
   "outputs": [],
   "source": [
    "import pandas_datareader.data as pdr\n",
    "import yfinance as yf\n",
    "yf.pdr_override()\n",
    "pdr.get_data_yahoo('AAPL')"
   ]
  },
  {
   "cell_type": "code",
   "execution_count": null,
   "metadata": {},
   "outputs": [],
   "source": [
    "[i for i in range(5,10)]"
   ]
  },
  {
   "cell_type": "code",
   "execution_count": null,
   "metadata": {},
   "outputs": [],
   "source": [
    "all_data = {item:pdr.get_data_yahoo(item) for item in ['AAPL','IBM','MSFT','GOOG']}\n",
    "all_data"
   ]
  },
  {
   "cell_type": "code",
   "execution_count": 11,
   "metadata": {},
   "outputs": [
    {
     "name": "stdout",
     "output_type": "stream",
     "text": [
      "AAPL\n",
      "0\n",
      "IBM\n",
      "0\n",
      "MSFT\n",
      "0\n",
      "GOOG\n",
      "0\n"
     ]
    }
   ],
   "source": [
    "test = {item:0 for item in ['AAPL','IBM','MSFT','GOOG']}\n",
    "for key,value in test.items():\n",
    "    print(key)\n",
    "    print(value)"
   ]
  },
  {
   "cell_type": "code",
   "execution_count": 12,
   "metadata": {},
   "outputs": [
    {
     "data": {
      "text/html": [
       "<div>\n",
       "<style scoped>\n",
       "    .dataframe tbody tr th:only-of-type {\n",
       "        vertical-align: middle;\n",
       "    }\n",
       "\n",
       "    .dataframe tbody tr th {\n",
       "        vertical-align: top;\n",
       "    }\n",
       "\n",
       "    .dataframe thead th {\n",
       "        text-align: right;\n",
       "    }\n",
       "</style>\n",
       "<table border=\"1\" class=\"dataframe\">\n",
       "  <thead>\n",
       "    <tr style=\"text-align: right;\">\n",
       "      <th></th>\n",
       "      <th>AAPL</th>\n",
       "      <th>IBM</th>\n",
       "      <th>MSFT</th>\n",
       "      <th>GOOG</th>\n",
       "    </tr>\n",
       "    <tr>\n",
       "      <th>Date</th>\n",
       "      <th></th>\n",
       "      <th></th>\n",
       "      <th></th>\n",
       "      <th></th>\n",
       "    </tr>\n",
       "  </thead>\n",
       "  <tbody>\n",
       "    <tr>\n",
       "      <th>1962-01-02</th>\n",
       "      <td>NaN</td>\n",
       "      <td>1.541710</td>\n",
       "      <td>NaN</td>\n",
       "      <td>NaN</td>\n",
       "    </tr>\n",
       "    <tr>\n",
       "      <th>1962-01-03</th>\n",
       "      <td>NaN</td>\n",
       "      <td>1.555187</td>\n",
       "      <td>NaN</td>\n",
       "      <td>NaN</td>\n",
       "    </tr>\n",
       "    <tr>\n",
       "      <th>1962-01-04</th>\n",
       "      <td>NaN</td>\n",
       "      <td>1.539688</td>\n",
       "      <td>NaN</td>\n",
       "      <td>NaN</td>\n",
       "    </tr>\n",
       "    <tr>\n",
       "      <th>1962-01-05</th>\n",
       "      <td>NaN</td>\n",
       "      <td>1.509367</td>\n",
       "      <td>NaN</td>\n",
       "      <td>NaN</td>\n",
       "    </tr>\n",
       "    <tr>\n",
       "      <th>1962-01-08</th>\n",
       "      <td>NaN</td>\n",
       "      <td>1.481066</td>\n",
       "      <td>NaN</td>\n",
       "      <td>NaN</td>\n",
       "    </tr>\n",
       "    <tr>\n",
       "      <th>...</th>\n",
       "      <td>...</td>\n",
       "      <td>...</td>\n",
       "      <td>...</td>\n",
       "      <td>...</td>\n",
       "    </tr>\n",
       "    <tr>\n",
       "      <th>2024-06-12</th>\n",
       "      <td>213.070007</td>\n",
       "      <td>169.000000</td>\n",
       "      <td>441.059998</td>\n",
       "      <td>179.559998</td>\n",
       "    </tr>\n",
       "    <tr>\n",
       "      <th>2024-06-13</th>\n",
       "      <td>214.240005</td>\n",
       "      <td>169.119995</td>\n",
       "      <td>441.579987</td>\n",
       "      <td>176.740005</td>\n",
       "    </tr>\n",
       "    <tr>\n",
       "      <th>2024-06-14</th>\n",
       "      <td>212.490005</td>\n",
       "      <td>169.210007</td>\n",
       "      <td>442.570007</td>\n",
       "      <td>178.369995</td>\n",
       "    </tr>\n",
       "    <tr>\n",
       "      <th>2024-06-17</th>\n",
       "      <td>216.669998</td>\n",
       "      <td>169.500000</td>\n",
       "      <td>448.369995</td>\n",
       "      <td>178.779999</td>\n",
       "    </tr>\n",
       "    <tr>\n",
       "      <th>2024-06-18</th>\n",
       "      <td>214.289993</td>\n",
       "      <td>170.550003</td>\n",
       "      <td>446.339996</td>\n",
       "      <td>176.449997</td>\n",
       "    </tr>\n",
       "  </tbody>\n",
       "</table>\n",
       "<p>15723 rows × 4 columns</p>\n",
       "</div>"
      ],
      "text/plain": [
       "                  AAPL         IBM        MSFT        GOOG\n",
       "Date                                                      \n",
       "1962-01-02         NaN    1.541710         NaN         NaN\n",
       "1962-01-03         NaN    1.555187         NaN         NaN\n",
       "1962-01-04         NaN    1.539688         NaN         NaN\n",
       "1962-01-05         NaN    1.509367         NaN         NaN\n",
       "1962-01-08         NaN    1.481066         NaN         NaN\n",
       "...                ...         ...         ...         ...\n",
       "2024-06-12  213.070007  169.000000  441.059998  179.559998\n",
       "2024-06-13  214.240005  169.119995  441.579987  176.740005\n",
       "2024-06-14  212.490005  169.210007  442.570007  178.369995\n",
       "2024-06-17  216.669998  169.500000  448.369995  178.779999\n",
       "2024-06-18  214.289993  170.550003  446.339996  176.449997\n",
       "\n",
       "[15723 rows x 4 columns]"
      ]
     },
     "execution_count": 12,
     "metadata": {},
     "output_type": "execute_result"
    }
   ],
   "source": [
    "import pandas as pd\n",
    "pd.DataFrame({key:df['Adj Close'] for key,df in all_data.items()})"
   ]
  }
 ],
 "metadata": {
  "kernelspec": {
   "display_name": "Python 3",
   "language": "python",
   "name": "python3"
  },
  "language_info": {
   "codemirror_mode": {
    "name": "ipython",
    "version": 3
   },
   "file_extension": ".py",
   "mimetype": "text/x-python",
   "name": "python",
   "nbconvert_exporter": "python",
   "pygments_lexer": "ipython3",
   "version": "3.10.14"
  }
 },
 "nbformat": 4,
 "nbformat_minor": 2
}
