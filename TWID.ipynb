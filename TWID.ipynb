{
 "cells": [
  {
   "cell_type": "code",
   "execution_count": 4,
   "metadata": {},
   "outputs": [
    {
     "name": "stdout",
     "output_type": "stream",
     "text": [
      "F291070449\n"
     ]
    }
   ],
   "source": [
    "import random\n",
    "\n",
    "local_table = {'A':1,'B':0,'C':9,'D':8,'E':7,'F':6,'G':5,'H':4,'I':9,'J':3,'K':2,'L':2,'M':1,'N':0,'O':8,'P':9,'Q':8,'R':7,'S':6,'T':5,'U':4,'V':3,'W':1,'X':3,'Y':2,'Z':0,}\n",
    "\n",
    "for i in range(10):\n",
    "    local = random.choice(list(local_table.keys()))\n",
    "    sex = random.randint(1,2)\n",
    "    total = local_table[local]+sex*8\n",
    "    result = f'{local}{sex}'\n",
    "\n",
    "for i in range(1,8):\n",
    "    num = random.randint(0,9)\n",
    "    total = total + num*(8-i)\n",
    "    result = f'{result}{num}'\n",
    "\n",
    "num10 = 10 - total%10\n",
    "if num10 == 10 : num10 = 0\n",
    "result = f'{result}{num10}'\n",
    "print(result)"
   ]
  }
 ],
 "metadata": {
  "kernelspec": {
   "display_name": "Python 3",
   "language": "python",
   "name": "python3"
  },
  "language_info": {
   "codemirror_mode": {
    "name": "ipython",
    "version": 3
   },
   "file_extension": ".py",
   "mimetype": "text/x-python",
   "name": "python",
   "nbconvert_exporter": "python",
   "pygments_lexer": "ipython3",
   "version": "3.10.14"
  }
 },
 "nbformat": 4,
 "nbformat_minor": 2
}
