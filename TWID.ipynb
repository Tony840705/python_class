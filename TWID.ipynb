{
 "cells": [
  {
   "cell_type": "code",
   "execution_count": null,
   "metadata": {},
   "outputs": [],
   "source": [
    "import random\n",
    "\n",
    "local_table = {'A':1,'B':0,'C':9,'D':8,'E':7,'F':6,'G':5,'H':4,'I':9,'J':3,'K':2,'L':2,'M':1,'N':0,'O':8,'P':9,'Q':8,'R':7,'S':6,'T':5,'U':4,'V':3,'W':1,'X':3,'Y':2,'Z':0,}\n",
    "\n",
    "for i in range(10):\n",
    "    local = random.choice(list(local_table.keys()))\n",
    "    sex = random.randint(1,2)\n",
    "    total = local_table[local]+sex*8\n",
    "    result = f'{local}{sex}'\n",
    "\n",
    "for i in range(1,8):\n",
    "    num = random.randint(0,9)\n",
    "    total = total + num*(8-i)\n",
    "    result = f'{result}{num}'\n",
    "\n",
    "num10 = 10 - total%10\n",
    "if num10 == 10 : num10 = 0\n",
    "result = f'{result}{num10}'\n",
    "print(result)"
   ]
  },
  {
   "cell_type": "code",
   "execution_count": null,
   "metadata": {},
   "outputs": [],
   "source": [
    "while True:                                # 使用 while 迴圈\n",
    "    id_number = input('輸入身分證字號：')     # 輸入身分證字號\n",
    "    if len(id_number)!=10: break           # 如果輸入的長度不等於 10，就跳出 while 迴圈\n",
    "    sex = int(id_number[1])                # 取得第二碼數字\n",
    "    if sex!=1 and sex!=2: break            # 第二碼如果不是 1 也不是 2 就跳出 while 迴圈\n",
    "    check_num = local_table[id_number[0]]  # 檢查數值最開始等於英文字母對照的數字\n",
    "    for i in range(1, 9):                  # 依序檢查第二碼到第八碼\n",
    "            check_num = check_num + int(id_number[i])*(9-i)  # 根據公式計算\n",
    "    check_num = check_num + int(id_number[9])  # 加入最後一碼的數值\n",
    "\n",
    "    if check_num%10 ==0:\n",
    "            print('身分證字號正確')    # 如果除以十可以整除表示正確\n",
    "    else:\n",
    "            print('身分證字號格式錯誤')"
   ]
  }
 ],
 "metadata": {
  "kernelspec": {
   "display_name": "Python 3",
   "language": "python",
   "name": "python3"
  },
  "language_info": {
   "codemirror_mode": {
    "name": "ipython",
    "version": 3
   },
   "file_extension": ".py",
   "mimetype": "text/x-python",
   "name": "python",
   "nbconvert_exporter": "python",
   "pygments_lexer": "ipython3",
   "version": "3.10.14"
  }
 },
 "nbformat": 4,
 "nbformat_minor": 2
}
