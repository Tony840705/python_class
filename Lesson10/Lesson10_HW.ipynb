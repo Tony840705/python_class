{
 "cells": [
  {
   "cell_type": "code",
   "execution_count": null,
   "metadata": {},
   "outputs": [],
   "source": [
    "from csv import DictReader\n",
    "\n",
    "with open('個股日成交資訊.csv',encoding='utf-8',newline='') as file:\n",
    "    reader:DictReader = DictReader(file)\n",
    "    sites:list = list(reader)\n",
    "\n",
    "for site in sites:\n",
    "    print(site['證券代號'],site['證券名稱'],site['成交股數'],site['成交金額'],site['開盤價'],site['最高價'],site['最低價'],site['收盤價'],site['漲跌價差'],site['成交筆數'])"
   ]
  }
 ],
 "metadata": {
  "kernelspec": {
   "display_name": "Python 3",
   "language": "python",
   "name": "python3"
  },
  "language_info": {
   "codemirror_mode": {
    "name": "ipython",
    "version": 3
   },
   "file_extension": ".py",
   "mimetype": "text/x-python",
   "name": "python",
   "nbconvert_exporter": "python",
   "pygments_lexer": "ipython3",
   "version": "3.10.14"
  }
 },
 "nbformat": 4,
 "nbformat_minor": 2
}
