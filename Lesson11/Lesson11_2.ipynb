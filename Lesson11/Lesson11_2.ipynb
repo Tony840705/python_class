{
 "cells": [
  {
   "cell_type": "code",
   "execution_count": 46,
   "metadata": {},
   "outputs": [
    {
     "name": "stdout",
     "output_type": "stream",
     "text": [
      "Tony\n",
      "Blue\n",
      "29\n",
      "first_name='Tony' last_name='Blue' age=29\n"
     ]
    }
   ],
   "source": [
    "##　操作方式和DataClass一樣\n",
    "\n",
    "from pydantic import BaseModel\n",
    "\n",
    "class Person(BaseModel):\n",
    "    #field一定要有type hint\n",
    "    first_name:str\n",
    "    last_name:str\n",
    "    age:int\n",
    "\n",
    "p = Person(first_name=\"Tony\", last_name=\"Blue\", age=29)\n",
    "print(p.first_name)\n",
    "print(p.last_name)\n",
    "print(p.age)\n",
    "print(p)"
   ]
  },
  {
   "cell_type": "code",
   "execution_count": 47,
   "metadata": {},
   "outputs": [
    {
     "name": "stdout",
     "output_type": "stream",
     "text": [
      "first_name='Tony' last_name='Blue' age=29\n"
     ]
    }
   ],
   "source": [
    "## dataClass 做不到的 驗證資料\n",
    "\n",
    "p1 = Person(first_name=\"Tony\", last_name=\"Blue\", age=29) #自動轉換型別\n",
    "print(p)\n"
   ]
  },
  {
   "cell_type": "code",
   "execution_count": 48,
   "metadata": {},
   "outputs": [],
   "source": [
    "try:\n",
    "    p2 = Person(first_name=\"Tony\", last_name=\"Blue\",age=\"29\") #自動轉換型別\n",
    "except Exception as error:\n",
    "    print(error)"
   ]
  },
  {
   "cell_type": "code",
   "execution_count": 50,
   "metadata": {},
   "outputs": [
    {
     "name": "stdout",
     "output_type": "stream",
     "text": [
      "first_name='Tony' last_name='Blue' age=29\n"
     ]
    }
   ],
   "source": [
    "##  可以將純文字轉成pydantic實體\n",
    "\n",
    "data_json = '''\n",
    "{\n",
    "    \"first_name\":\"Tony\",\n",
    "    \"last_name\":\"Blue\",\n",
    "    \"age\":\"29\"\n",
    "}\n",
    "'''\n",
    "p3 = Person.model_validate_json(data_json)\n",
    "print(p)"
   ]
  },
  {
   "cell_type": "markdown",
   "metadata": {},
   "source": [
    "## 可以選擇需要的欄位"
   ]
  },
  {
   "cell_type": "code",
   "execution_count": 56,
   "metadata": {},
   "outputs": [
    {
     "name": "stdout",
     "output_type": "stream",
     "text": [
      "first_name='Tony' last_name='Blue' age=29\n"
     ]
    }
   ],
   "source": [
    "data_json = '''\n",
    "{\n",
    "    \"first_name\":\"Tony\",\n",
    "    \"last_name\":\"Blue\",\n",
    "    \"age\":29,\n",
    "    \"height\":173\n",
    "}\n",
    "'''\n",
    "p4 = Person.model_validate_json(data_json)\n",
    "print(p)"
   ]
  },
  {
   "cell_type": "markdown",
   "metadata": {},
   "source": [
    "## 可以設定取得的資料，如果沒有這個欄位，設定欄位預設值"
   ]
  },
  {
   "cell_type": "code",
   "execution_count": 54,
   "metadata": {},
   "outputs": [
    {
     "name": "stdout",
     "output_type": "stream",
     "text": [
      "first_name='Tony' last_name='Blue' age=29\n"
     ]
    }
   ],
   "source": [
    "class Person(BaseModel):\n",
    "    #field一定要有type hint\n",
    "    first_name:str #一定要有資料\n",
    "    last_name:str #一定要有資料\n",
    "    age:int = 29 #有預設的值\n",
    "\n",
    "data_json = '''\n",
    "{\n",
    "    \"first_name\":\"Tony\",\n",
    "    \"last_name\":\"Blue\"    \n",
    "}\n",
    "'''\n",
    "p4 = Person.model_validate_json(data_json)\n",
    "print(p4)"
   ]
  },
  {
   "cell_type": "code",
   "execution_count": 59,
   "metadata": {},
   "outputs": [
    {
     "name": "stdout",
     "output_type": "stream",
     "text": [
      "first_name='Tony' last_name='Blue' age=0 lucky_numbers=[]\n"
     ]
    }
   ],
   "source": [
    "class Person(BaseModel):\n",
    "    #field一定要有type hint\n",
    "    first_name:str #一定要有資料\n",
    "    last_name:str #一定要有資料\n",
    "    age:int = 0 #有預設的值\n",
    "    lucky_numbers:list[int] = []\n",
    "\n",
    "data_json = '''\n",
    "{\n",
    "    \"first_name\":\"Tony\",\n",
    "    \"last_name\":\"Blue\"    \n",
    "}\n",
    "'''\n",
    "p4 = Person.model_validate_json(data_json)\n",
    "print(p4)"
   ]
  },
  {
   "cell_type": "code",
   "execution_count": 62,
   "metadata": {},
   "outputs": [
    {
     "name": "stdout",
     "output_type": "stream",
     "text": [
      "first_name='Tony' last_name='Blue' age=0 lucky_numbers=[8, 4, 0, 7, 0, 5, 6]\n"
     ]
    }
   ],
   "source": [
    "class Person(BaseModel):\n",
    "    #field一定要有type hint\n",
    "    first_name:str #一定要有資料\n",
    "    last_name:str #一定要有資料\n",
    "    age:int = 0 #有預設的值\n",
    "    lucky_numbers:list[int] = []\n",
    "\n",
    "data_json = '''\n",
    "{\n",
    "    \"first_name\":\"Tony\",\n",
    "    \"last_name\":\"Blue\",\n",
    "    \"lucky_numbers\":[8,4,0,7,0,5,\"6\"]    \n",
    "}\n",
    "'''\n",
    "p4 = Person.model_validate_json(data_json)\n",
    "print(p4)"
   ]
  },
  {
   "cell_type": "code",
   "execution_count": 71,
   "metadata": {},
   "outputs": [
    {
     "name": "stdout",
     "output_type": "stream",
     "text": [
      "id_=122656534 first_name='Tony' last_name='Blue' age=29\n"
     ]
    }
   ],
   "source": [
    "data_json = '''\n",
    "{\n",
    "    \"id\":122656534,\n",
    "    \"First Name\":\"Tony\",\n",
    "    \"LASTNAME\":\"Blue\",\n",
    "    \"age in years\": 29    \n",
    "}\n",
    "'''\n",
    "\n",
    "from pydantic import BaseModel,Field\n",
    "\n",
    "class Person(BaseModel):\n",
    "    id_:int = Field(alias=\"id\")\n",
    "    first_name:str = Field(alias=\"First Name\")\n",
    "    last_name:str = Field(alias=\"LASTNAME\")\n",
    "    age:int = Field(alias=\"age in years\",default=0)\n",
    "\n",
    "p1 = Person.model_validate_json(data_json)\n",
    "print(p1)"
   ]
  },
  {
   "cell_type": "markdown",
   "metadata": {},
   "source": [
    "#   巢狀的Model"
   ]
  },
  {
   "cell_type": "code",
   "execution_count": 72,
   "metadata": {},
   "outputs": [
    {
     "name": "stdout",
     "output_type": "stream",
     "text": [
      "Lunar Colony\n",
      "Central City\n"
     ]
    }
   ],
   "source": [
    "data:str = '''\n",
    "{\n",
    "    \"firstName\": \"Arthur\",\n",
    "    \"lastName\": \"Clarke\",\n",
    "    \"born\":{\n",
    "        \"place\":{\n",
    "            \"country\":\"Lunar Colony\",\n",
    "            \"city\": \"Central City\"\n",
    "        },\n",
    "        \"date\":\"2001-01-01\"\n",
    "    }\n",
    "}\n",
    "'''\n",
    "from pydantic import BaseModel,Field\n",
    "class Place(BaseModel):\n",
    "    country:str\n",
    "    city:str\n",
    "\n",
    "class Born(BaseModel):\n",
    "    place:Place\n",
    "    date:str\n",
    "\n",
    "class Person(BaseModel):\n",
    "    first_name:str = Field(alias=\"firstName\")\n",
    "    last_name:str = Field(alias=\"lastName\")\n",
    "    born:Born\n",
    "\n",
    "p1 = Person.model_validate_json(data)\n",
    "print(p1.born.place.country)\n",
    "print(p1.born.place.city)"
   ]
  }
 ],
 "metadata": {
  "kernelspec": {
   "display_name": "Python 3",
   "language": "python",
   "name": "python3"
  },
  "language_info": {
   "codemirror_mode": {
    "name": "ipython",
    "version": 3
   },
   "file_extension": ".py",
   "mimetype": "text/x-python",
   "name": "python",
   "nbconvert_exporter": "python",
   "pygments_lexer": "ipython3",
   "version": "3.10.14"
  }
 },
 "nbformat": 4,
 "nbformat_minor": 2
}
