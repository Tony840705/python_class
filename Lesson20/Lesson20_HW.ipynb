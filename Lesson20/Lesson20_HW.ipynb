{
 "cells": [
  {
   "cell_type": "code",
   "execution_count": null,
   "metadata": {},
   "outputs": [],
   "source": [
    "import requests\n",
    "from requests import Response\n",
    "from pydantic import BaseModel,Field,field_validator,RootModel\n",
    "import pandas as pd\n",
    "\n",
    "youbike_url:Response= requests.get('https://tcgbusfs.blob.core.windows.net/dotapp/youbike/v2/youbike_immediate.json')\n",
    "if youbike_url.status_code == 200:\n",
    "    print(\"下載成功\")\n",
    "else:\n",
    "    print(\"下載失敗\")\n",
    "\n",
    "class Site (BaseModel):\n",
    "    行政區域:str = Field(alias='sarea')\n",
    "    總數量:int = Field(alias='total')\n",
    "    可借數量:int = Field(alias='available_rent_bikes') \n",
    "    可還數量:int = Field(alias='available_return_bikes')\n",
    "\n",
    "    @field_validator('可借數量','可還數量',mode='before')\n",
    "    @classmethod\n",
    "    def whitespace_to_zero(cls, value: str) -> str:\n",
    "        return '0.0' if value == '' else value\n",
    "        \n",
    "class Youbike(RootModel):\n",
    "    root:list[Site]\n",
    "\n",
    "data = Youbike.model_validate_json(youbike_url.text)\n",
    "all_sites = data.model_dump()\n",
    "\n",
    "df = pd.DataFrame(all_sites)\n",
    "df1=df.set_index(keys='行政區域')\n",
    "df1_sum=df1.groupby(level='行政區域').sum()\n",
    "df1_sum"
   ]
  },
  {
   "cell_type": "code",
   "execution_count": null,
   "metadata": {},
   "outputs": [],
   "source": [
    "import requests\n",
    "import pandas as pd\n",
    "from pydantic import BaseModel, Field, RootModel\n",
    "\n",
    "\n",
    "youbike_url = 'https://tcgbusfs.blob.core.windows.net/dotapp/youbike/v2/youbike_immediate.json'\n",
    "res = requests.get(youbike_url)\n",
    "\n",
    "if res.status_code == 200:\n",
    "    print('下載成功')\n",
    "else:\n",
    "    print('下載失敗')\n",
    "\n",
    "class Site(BaseModel):\n",
    "    行政區域:str = Field(alias='sarea')\n",
    "    總數量:int = Field(alias='total')\n",
    "    可借數量:int = Field(alias='available_rent_bikes') \n",
    "    可還數量:int = Field(alias='available_return_bikes')\n",
    "\n",
    "class YouBike(RootModel):\n",
    "    root: list[Site]\n",
    "    \n",
    "data: YouBike = YouBike.model_validate_json(res.text)\n",
    "all_sites: list[dict] = data.model_dump()\n",
    "\n",
    "df_sites = pd.DataFrame(all_sites)\n",
    "df_sites.groupby(by='行政區域')[['總數量', '可借數量', '可還數量']].sum()"
   ]
  }
 ],
 "metadata": {
  "kernelspec": {
   "display_name": "Python 3",
   "language": "python",
   "name": "python3"
  },
  "language_info": {
   "codemirror_mode": {
    "name": "ipython",
    "version": 3
   },
   "file_extension": ".py",
   "mimetype": "text/x-python",
   "name": "python",
   "nbconvert_exporter": "python",
   "pygments_lexer": "ipython3",
   "version": "3.10.14"
  }
 },
 "nbformat": 4,
 "nbformat_minor": 2
}
