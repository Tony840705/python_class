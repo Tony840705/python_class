{
 "cells": [
  {
   "cell_type": "code",
   "execution_count": null,
   "metadata": {},
   "outputs": [],
   "source": [
    "import pandas as pd\n",
    "df1 = pd.read_csv('每日各站進出站人數2022.csv')\n",
    "df1.columns = ['日期','CODE','進站','出站']\n",
    "df1['日期'] = pd.to_datetime(df1['日期'].astype(str))\n",
    "df2 = df1.set_index(keys=['日期','CODE'])\n",
    "df2.columns.name = '進出'\n",
    "df2"
   ]
  },
  {
   "cell_type": "code",
   "execution_count": null,
   "metadata": {},
   "outputs": [],
   "source": [
    "stack_data = df2.stack()\n",
    "stack_data"
   ]
  },
  {
   "cell_type": "code",
   "execution_count": null,
   "metadata": {},
   "outputs": [],
   "source": [
    "#2022年，全台進出站的人口數\n",
    "stack_data.groupby(level='進出').sum()    #將指定數值整合在一起加總"
   ]
  },
  {
   "cell_type": "code",
   "execution_count": null,
   "metadata": {},
   "outputs": [],
   "source": [
    "#2022年，全台各站點的進出站的人口數\n",
    "sum1 = stack_data.groupby(level=['CODE','進出']).sum()\n",
    "sum1.unstack()"
   ]
  },
  {
   "cell_type": "code",
   "execution_count": null,
   "metadata": {},
   "outputs": [],
   "source": [
    "stack_data.reset_index().groupby(bY=[])"
   ]
  },
  {
   "cell_type": "code",
   "execution_count": null,
   "metadata": {},
   "outputs": [],
   "source": [
    "import pandas as pd\n",
    "df1 = pd.read_csv('每日各站進出站人數2022.csv')\n",
    "df1.columns = ['日期','CODE','進站','出站']\n",
    "df1['日期'] = pd.to_datetime(df1['日期'].astype(str))\n",
    "df1['月份'] = df1['日期'].dt.month      #將日期轉換型別\n",
    "df1\n",
    "df2 = df1.set_index(keys=['日期','CODE','月份'])\n",
    "df2\n",
    "df2.columns.name = '進出'\n",
    "df2"
   ]
  },
  {
   "cell_type": "code",
   "execution_count": null,
   "metadata": {},
   "outputs": [],
   "source": [
    "stack1 = df2.stack()\n",
    "stack1"
   ]
  },
  {
   "cell_type": "code",
   "execution_count": null,
   "metadata": {},
   "outputs": [],
   "source": [
    "#2022年，全台車站每月份的進出站的人口數\n",
    "month1 = stack1.groupby(level=['月份','CODE','進出']).sum()\n",
    "month1.unstack('進出')"
   ]
  }
 ],
 "metadata": {
  "kernelspec": {
   "display_name": "Python 3",
   "language": "python",
   "name": "python3"
  },
  "language_info": {
   "codemirror_mode": {
    "name": "ipython",
    "version": 3
   },
   "file_extension": ".py",
   "mimetype": "text/x-python",
   "name": "python",
   "nbconvert_exporter": "python",
   "pygments_lexer": "ipython3",
   "version": "3.10.14"
  }
 },
 "nbformat": 4,
 "nbformat_minor": 2
}
